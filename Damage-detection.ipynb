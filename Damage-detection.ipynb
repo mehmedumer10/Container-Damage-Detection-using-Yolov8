{
 "cells": [
  {
   "cell_type": "code",
   "execution_count": 1,
   "id": "b4b92532-aa7d-4813-ac26-04ccfe9668ac",
   "metadata": {},
   "outputs": [
    {
     "name": "stdout",
     "output_type": "stream",
     "text": [
      "Directory exists: D:\\Damage Detection\\Dataset\\train\\images\n",
      "Directory exists: D:\\Damage Detection\\Dataset\\train\\labels\n",
      "Directory exists: D:\\Damage Detection\\Dataset\\valid\\images\n",
      "Directory exists: D:\\Damage Detection\\Dataset\\valid\\labels\n",
      "Directory exists: D:\\Damage Detection\\Dataset\\test\\images\n",
      "Directory exists: D:\\Damage Detection\\Dataset\\test\\labels\n"
     ]
    }
   ],
   "source": [
    "import os\n",
    "\n",
    "# Define dataset directories\n",
    "train_images_dir = r'D:\\Damage Detection\\Dataset\\train\\images'\n",
    "train_labels_dir = r'D:\\Damage Detection\\Dataset\\train\\labels'\n",
    "valid_images_dir = r'D:\\Damage Detection\\Dataset\\valid\\images'\n",
    "valid_labels_dir = r'D:\\Damage Detection\\Dataset\\valid\\labels'\n",
    "test_images_dir = r'D:\\Damage Detection\\Dataset\\test\\images'\n",
    "test_labels_dir = r'D:\\Damage Detection\\Dataset\\test\\labels'\n",
    "\n",
    "# Check if directories exist\n",
    "directories = [train_images_dir, train_labels_dir, valid_images_dir, valid_labels_dir, test_images_dir, test_labels_dir]\n",
    "\n",
    "for directory in directories:\n",
    "    if os.path.exists(directory):\n",
    "        print(f\"Directory exists: {directory}\")\n",
    "    else:\n",
    "        print(f\"Directory does not exist: {directory}\")\n"
   ]
  },
  {
   "cell_type": "code",
   "execution_count": 2,
   "id": "d4c21521-09e5-4fbb-bb2d-b0389668c31f",
   "metadata": {},
   "outputs": [
    {
     "name": "stdout",
     "output_type": "stream",
     "text": [
      "Train images: 3977\n",
      "Train labels: 3977\n",
      "Validation images: 161\n",
      "Validation labels: 161\n",
      "Test images: 159\n",
      "Test labels: 159\n"
     ]
    }
   ],
   "source": [
    "import glob\n",
    "\n",
    "# Load image and label paths\n",
    "train_image_paths = glob.glob(os.path.join(train_images_dir, '*.jpg'))  # Adjust extension as needed\n",
    "train_label_paths = glob.glob(os.path.join(train_labels_dir, '*.txt'))\n",
    "\n",
    "valid_image_paths = glob.glob(os.path.join(valid_images_dir, '*.jpg'))\n",
    "valid_label_paths = glob.glob(os.path.join(valid_labels_dir, '*.txt'))\n",
    "\n",
    "test_image_paths = glob.glob(os.path.join(test_images_dir, '*.jpg'))\n",
    "test_label_paths = glob.glob(os.path.join(test_labels_dir, '*.txt'))\n",
    "\n",
    "# Print the number of files loaded\n",
    "print(f\"Train images: {len(train_image_paths)}\")\n",
    "print(f\"Train labels: {len(train_label_paths)}\")\n",
    "print(f\"Validation images: {len(valid_image_paths)}\")\n",
    "print(f\"Validation labels: {len(valid_label_paths)}\")\n",
    "print(f\"Test images: {len(test_image_paths)}\")\n",
    "print(f\"Test labels: {len(test_label_paths)}\")"
   ]
  },
  {
   "cell_type": "code",
   "execution_count": 3,
   "id": "73893631-e25d-446e-952b-1689e0bc47d7",
   "metadata": {},
   "outputs": [
    {
     "name": "stdout",
     "output_type": "stream",
     "text": [
      "Empty label file found: D:\\Damage Detection\\Dataset\\train\\labels\\FCIU3420028-2-_jpg.rf.b84d447371c240dce4e79958919965e6.txt\n",
      "Empty label file found: D:\\Damage Detection\\Dataset\\train\\labels\\FCIU3420028-2-_jpg.rf.e421d937e3057a65625bd6a2a0a5fb9b.txt\n",
      "Empty label file found: D:\\Damage Detection\\Dataset\\train\\labels\\FCIU3420028-2-_jpg.rf.edd75c904f7c91d22e7e042d5101720c.txt\n"
     ]
    }
   ],
   "source": [
    "import os\n",
    "\n",
    "label_dirs = [r'D:\\Damage Detection\\Dataset\\train\\labels',\n",
    "              r'D:\\Damage Detection\\Dataset\\valid\\labels',\n",
    "              r'D:\\Damage Detection\\Dataset\\test\\labels']\n",
    "\n",
    "for label_dir in label_dirs:\n",
    "    for filename in os.listdir(label_dir):\n",
    "        filepath = os.path.join(label_dir, filename)\n",
    "        if os.path.getsize(filepath) == 0:\n",
    "            print(f\"Empty label file found: {filepath}\")"
   ]
  },
  {
   "cell_type": "code",
   "execution_count": 4,
   "id": "e711cf97-83d7-43b5-b5ff-98423ace7f24",
   "metadata": {},
   "outputs": [
    {
     "name": "stdout",
     "output_type": "stream",
     "text": [
      "Empty label file found: D:\\Damage Detection\\Dataset\\train\\labels\\FCIU3420028-2-_jpg.rf.b84d447371c240dce4e79958919965e6.txt\n",
      "Label file still empty and needs manual intervention: D:\\Damage Detection\\Dataset\\train\\labels\\FCIU3420028-2-_jpg.rf.b84d447371c240dce4e79958919965e6.txt\n",
      "Empty label file found: D:\\Damage Detection\\Dataset\\train\\labels\\FCIU3420028-2-_jpg.rf.e421d937e3057a65625bd6a2a0a5fb9b.txt\n",
      "Label file still empty and needs manual intervention: D:\\Damage Detection\\Dataset\\train\\labels\\FCIU3420028-2-_jpg.rf.e421d937e3057a65625bd6a2a0a5fb9b.txt\n",
      "Empty label file found: D:\\Damage Detection\\Dataset\\train\\labels\\FCIU3420028-2-_jpg.rf.edd75c904f7c91d22e7e042d5101720c.txt\n",
      "Label file still empty and needs manual intervention: D:\\Damage Detection\\Dataset\\train\\labels\\FCIU3420028-2-_jpg.rf.edd75c904f7c91d22e7e042d5101720c.txt\n",
      "Total number of empty label files: 3\n"
     ]
    }
   ],
   "source": [
    "import os\n",
    "\n",
    "label_dirs = [r'D:\\Damage Detection\\Dataset\\train\\labels',\n",
    "              r'D:\\Damage Detection\\Dataset\\valid\\labels',\n",
    "              r'D:\\Damage Detection\\Dataset\\test\\labels']\n",
    "\n",
    "def regenerate_empty_label(filepath, reference_file=None):\n",
    "    # If you have a reference label file to copy from, use that\n",
    "    if reference_file and os.path.exists(reference_file):\n",
    "        with open(reference_file, 'r') as ref:\n",
    "            label_data = ref.read()\n",
    "        \n",
    "        with open(filepath, 'w') as f:\n",
    "            f.write(label_data)\n",
    "        print(f\"Regenerated label file using reference: {filepath}\")\n",
    "    else:\n",
    "        # Placeholder: generate label programmatically or remove the file\n",
    "        print(f\"Label file still empty and needs manual intervention: {filepath}\")\n",
    "\n",
    "empty_label_count = 0\n",
    "\n",
    "for label_dir in label_dirs:\n",
    "    for filename in os.listdir(label_dir):\n",
    "        filepath = os.path.join(label_dir, filename)\n",
    "        if os.path.getsize(filepath) == 0:\n",
    "            print(f\"Empty label file found: {filepath}\")\n",
    "            empty_label_count += 1\n",
    "            # Attempt to regenerate or remove the empty label file\n",
    "            regenerate_empty_label(filepath)\n",
    "\n",
    "print(f\"Total number of empty label files: {empty_label_count}\")"
   ]
  },
  {
   "cell_type": "code",
   "execution_count": 5,
   "id": "54c70a9a-d6c0-4aec-b6fc-780773282013",
   "metadata": {},
   "outputs": [
    {
     "name": "stdout",
     "output_type": "stream",
     "text": [
      "Removing empty label file and corresponding image: D:\\Damage Detection\\Dataset\\train\\labels\\FCIU3420028-2-_jpg.rf.b84d447371c240dce4e79958919965e6.txt\n",
      "Removed corresponding image: D:\\Damage Detection\\Dataset\\train\\images\\FCIU3420028-2-_jpg.rf.b84d447371c240dce4e79958919965e6.jpg\n",
      "Removing empty label file and corresponding image: D:\\Damage Detection\\Dataset\\train\\labels\\FCIU3420028-2-_jpg.rf.e421d937e3057a65625bd6a2a0a5fb9b.txt\n",
      "Removed corresponding image: D:\\Damage Detection\\Dataset\\train\\images\\FCIU3420028-2-_jpg.rf.e421d937e3057a65625bd6a2a0a5fb9b.jpg\n",
      "Removing empty label file and corresponding image: D:\\Damage Detection\\Dataset\\train\\labels\\FCIU3420028-2-_jpg.rf.edd75c904f7c91d22e7e042d5101720c.txt\n",
      "Removed corresponding image: D:\\Damage Detection\\Dataset\\train\\images\\FCIU3420028-2-_jpg.rf.edd75c904f7c91d22e7e042d5101720c.jpg\n",
      "Cleanup complete.\n"
     ]
    }
   ],
   "source": [
    "import os\n",
    "\n",
    "# Define dataset directories\n",
    "train_images_dir = r'D:\\Damage Detection\\Dataset\\train\\images'\n",
    "train_labels_dir = r'D:\\Damage Detection\\Dataset\\train\\labels'\n",
    "valid_images_dir = r'D:\\Damage Detection\\Dataset\\valid\\images'\n",
    "valid_labels_dir = r'D:\\Damage Detection\\Dataset\\valid\\labels'\n",
    "test_images_dir = r'D:\\Damage Detection\\Dataset\\test\\images'\n",
    "test_labels_dir = r'D:\\Damage Detection\\Dataset\\test\\labels'\n",
    "\n",
    "# Combine label directories and their corresponding image directories\n",
    "label_dirs = {\n",
    "    train_labels_dir: train_images_dir,\n",
    "    valid_labels_dir: valid_images_dir,\n",
    "    test_labels_dir: test_images_dir\n",
    "}\n",
    "\n",
    "def remove_empty_labels_and_images(label_dir, image_dir):\n",
    "    for filename in os.listdir(label_dir):\n",
    "        filepath = os.path.join(label_dir, filename)\n",
    "        if os.path.getsize(filepath) == 0:\n",
    "            print(f\"Removing empty label file and corresponding image: {filepath}\")\n",
    "            os.remove(filepath)  # Remove the empty label file\n",
    "\n",
    "            # Remove the corresponding image file\n",
    "            image_filename = os.path.splitext(filename)[0] + '.jpg'\n",
    "            image_path = os.path.join(image_dir, image_filename)\n",
    "            if os.path.exists(image_path):\n",
    "                os.remove(image_path)\n",
    "                print(f\"Removed corresponding image: {image_path}\")\n",
    "\n",
    "for label_dir, image_dir in label_dirs.items():\n",
    "    remove_empty_labels_and_images(label_dir, image_dir)\n",
    "\n",
    "print(\"Cleanup complete.\")"
   ]
  },
  {
   "cell_type": "code",
   "execution_count": 6,
   "id": "03618f62-e4df-4f9a-8cc5-a59c8386c5cd",
   "metadata": {},
   "outputs": [],
   "source": [
    "import os\n",
    "import logging\n",
    "from PIL import Image\n",
    "import torch\n",
    "from torch.utils.data import DataLoader, Sampler\n",
    "from ultralytics import YOLO\n",
    "from torch.nn.utils import clip_grad_norm_\n",
    "\n",
    "# Configure logging\n",
    "logging.basicConfig(level=logging.DEBUG, filename='training.log', filemode='w')\n",
    "logger = logging.getLogger()\n",
    "\n",
    "def check_images(directory):\n",
    "    \"\"\"Check for corrupt images in the dataset.\"\"\"\n",
    "    for root, dirs, files in os.walk(directory):\n",
    "        for file in files:\n",
    "            if file.lower().endswith(('.png', '.jpg', '.jpeg')):\n",
    "                try:\n",
    "                    with Image.open(os.path.join(root, file)) as img:\n",
    "                        img.verify()  # Verify image integrity\n",
    "                except (IOError, SyntaxError) as e:\n",
    "                    logger.warning(f'Corrupt image: {file}')\n",
    "\n",
    "# Check dataset integrity\n",
    "check_images(r'D:\\Damage Detection\\Dataset\\test\\images')\n",
    "check_images(r'D:\\Damage Detection\\Dataset\\train\\images')\n",
    "check_images(r'D:\\Damage Detection\\Dataset\\valid\\images')"
   ]
  },
  {
   "cell_type": "code",
   "execution_count": 8,
   "id": "f2aa13b7-82b0-4a3a-860d-b8cea99dbae5",
   "metadata": {},
   "outputs": [],
   "source": [
    "import albumentations as A\n",
    "from albumentations.pytorch import ToTensorV2\n",
    "import cv2\n",
    "\n",
    "# Define augmentation pipeline\n",
    "def augment_image(image, bbox):\n",
    "    transform = A.Compose([\n",
    "        A.HorizontalFlip(p=0.5),\n",
    "        A.VerticalFlip(p=0.5),\n",
    "        A.RandomRotate90(p=0.5),\n",
    "        A.RandomBrightnessContrast(p=0.2),\n",
    "        A.ColorJitter(p=0.3),\n",
    "        A.Blur(p=0.1),\n",
    "        A.Resize(width=640, height=640),\n",
    "        ToTensorV2(),\n",
    "    ], bbox_params=A.BboxParams(format='pascal_voc', label_fields=['class_labels']))\n",
    "\n",
    "    augmented = transform(image=image, bboxes=bbox, class_labels=[0]*len(bbox))\n",
    "    return augmented['image'], augmented['bboxes']\n",
    "\n",
    "# Example usage\n",
    "image = cv2.imread(r'D:\\Damage Detection\\Dataset\\train\\images\\0c21275b-DSC09378_JPG_counter_018_jpg.rf.1c9c1619a2f236fe3c869bf77ba3fe98.jpg')\n",
    "bbox = [[50, 60, 200, 220]]  # Example bounding box (xmin, ymin, xmax, ymax)\n",
    "aug_image, aug_bboxes = augment_image(image, bbox)\n"
   ]
  },
  {
   "cell_type": "code",
   "execution_count": null,
   "id": "16259e70-3614-4951-867f-1bacba8f163d",
   "metadata": {},
   "outputs": [
    {
     "name": "stdout",
     "output_type": "stream",
     "text": [
      "Downloading https://github.com/ultralytics/assets/releases/download/v8.2.0/yolov8s.pt to 'yolov8s.pt'...\n"
     ]
    },
    {
     "name": "stderr",
     "output_type": "stream",
     "text": [
      "<>:7: SyntaxWarning: invalid escape sequence '\\D'\n",
      "<>:7: SyntaxWarning: invalid escape sequence '\\D'\n",
      "C:\\Users\\hp\\AppData\\Local\\Temp\\ipykernel_4232\\129760723.py:7: SyntaxWarning: invalid escape sequence '\\D'\n",
      "  model.train(data='D:\\Damage Detection\\Dataset\\data.yaml', epochs=10, batch=16, imgsz=640, lr0=0.001)\n",
      "100%|██████████████████████████████████████████████████████████████████████████████| 21.5M/21.5M [00:24<00:00, 936kB/s]\n"
     ]
    },
    {
     "name": "stdout",
     "output_type": "stream",
     "text": [
      "Ultralytics YOLOv8.2.79  Python-3.12.5 torch-2.4.0+cpu CPU (Intel Core(TM) i5-7200U 2.50GHz)\n",
      "\u001b[34m\u001b[1mengine\\trainer: \u001b[0mtask=detect, mode=train, model=yolov8s.pt, data=D:\\Damage Detection\\Dataset\\data.yaml, epochs=10, time=None, patience=100, batch=16, imgsz=640, save=True, save_period=-1, cache=False, device=None, workers=8, project=None, name=train, exist_ok=False, pretrained=True, optimizer=auto, verbose=True, seed=0, deterministic=True, single_cls=False, rect=False, cos_lr=False, close_mosaic=10, resume=False, amp=True, fraction=1.0, profile=False, freeze=None, multi_scale=False, overlap_mask=True, mask_ratio=4, dropout=0.0, val=True, split=val, save_json=False, save_hybrid=False, conf=None, iou=0.7, max_det=300, half=False, dnn=False, plots=True, source=None, vid_stride=1, stream_buffer=False, visualize=False, augment=False, agnostic_nms=False, classes=None, retina_masks=False, embed=None, show=False, save_frames=False, save_txt=False, save_conf=False, save_crop=False, show_labels=True, show_conf=True, show_boxes=True, line_width=None, format=torchscript, keras=False, optimize=False, int8=False, dynamic=False, simplify=False, opset=None, workspace=4, nms=False, lr0=0.001, lrf=0.01, momentum=0.937, weight_decay=0.0005, warmup_epochs=3.0, warmup_momentum=0.8, warmup_bias_lr=0.1, box=7.5, cls=0.5, dfl=1.5, pose=12.0, kobj=1.0, label_smoothing=0.0, nbs=64, hsv_h=0.015, hsv_s=0.7, hsv_v=0.4, degrees=0.0, translate=0.1, scale=0.5, shear=0.0, perspective=0.0, flipud=0.0, fliplr=0.5, bgr=0.0, mosaic=1.0, mixup=0.0, copy_paste=0.0, auto_augment=randaugment, erasing=0.4, crop_fraction=1.0, cfg=None, tracker=botsort.yaml, save_dir=runs\\detect\\train\n",
      "Overriding model.yaml nc=80 with nc=3\n",
      "\n",
      "                   from  n    params  module                                       arguments                     \n",
      "  0                  -1  1       928  ultralytics.nn.modules.conv.Conv             [3, 32, 3, 2]                 \n",
      "  1                  -1  1     18560  ultralytics.nn.modules.conv.Conv             [32, 64, 3, 2]                \n",
      "  2                  -1  1     29056  ultralytics.nn.modules.block.C2f             [64, 64, 1, True]             \n",
      "  3                  -1  1     73984  ultralytics.nn.modules.conv.Conv             [64, 128, 3, 2]               \n",
      "  4                  -1  2    197632  ultralytics.nn.modules.block.C2f             [128, 128, 2, True]           \n",
      "  5                  -1  1    295424  ultralytics.nn.modules.conv.Conv             [128, 256, 3, 2]              \n",
      "  6                  -1  2    788480  ultralytics.nn.modules.block.C2f             [256, 256, 2, True]           \n",
      "  7                  -1  1   1180672  ultralytics.nn.modules.conv.Conv             [256, 512, 3, 2]              \n",
      "  8                  -1  1   1838080  ultralytics.nn.modules.block.C2f             [512, 512, 1, True]           \n",
      "  9                  -1  1    656896  ultralytics.nn.modules.block.SPPF            [512, 512, 5]                 \n",
      " 10                  -1  1         0  torch.nn.modules.upsampling.Upsample         [None, 2, 'nearest']          \n",
      " 11             [-1, 6]  1         0  ultralytics.nn.modules.conv.Concat           [1]                           \n",
      " 12                  -1  1    591360  ultralytics.nn.modules.block.C2f             [768, 256, 1]                 \n",
      " 13                  -1  1         0  torch.nn.modules.upsampling.Upsample         [None, 2, 'nearest']          \n",
      " 14             [-1, 4]  1         0  ultralytics.nn.modules.conv.Concat           [1]                           \n",
      " 15                  -1  1    148224  ultralytics.nn.modules.block.C2f             [384, 128, 1]                 \n",
      " 16                  -1  1    147712  ultralytics.nn.modules.conv.Conv             [128, 128, 3, 2]              \n",
      " 17            [-1, 12]  1         0  ultralytics.nn.modules.conv.Concat           [1]                           \n",
      " 18                  -1  1    493056  ultralytics.nn.modules.block.C2f             [384, 256, 1]                 \n",
      " 19                  -1  1    590336  ultralytics.nn.modules.conv.Conv             [256, 256, 3, 2]              \n",
      " 20             [-1, 9]  1         0  ultralytics.nn.modules.conv.Concat           [1]                           \n",
      " 21                  -1  1   1969152  ultralytics.nn.modules.block.C2f             [768, 512, 1]                 \n",
      " 22        [15, 18, 21]  1   2117209  ultralytics.nn.modules.head.Detect           [3, [128, 256, 512]]          \n",
      "Model summary: 225 layers, 11,136,761 parameters, 11,136,745 gradients, 28.7 GFLOPs\n",
      "\n",
      "Transferred 349/355 items from pretrained weights\n",
      "\u001b[34m\u001b[1mTensorBoard: \u001b[0mStart with 'tensorboard --logdir runs\\detect\\train', view at http://localhost:6006/\n",
      "Freezing layer 'model.22.dfl.conv.weight'\n"
     ]
    },
    {
     "name": "stderr",
     "output_type": "stream",
     "text": [
      "C:\\Users\\hp\\AppData\\Roaming\\Python\\Python312\\site-packages\\ultralytics\\engine\\trainer.py:271: FutureWarning: `torch.cuda.amp.GradScaler(args...)` is deprecated. Please use `torch.amp.GradScaler('cuda', args...)` instead.\n",
      "  self.scaler = torch.cuda.amp.GradScaler(enabled=self.amp)\n",
      "\u001b[34m\u001b[1mtrain: \u001b[0mScanning D:\\Damage Detection\\Dataset\\train\\labels... 3974 images, 0 backgrounds, 0 corrupt: 100%|██████████| 397\u001b[0m\n"
     ]
    },
    {
     "name": "stdout",
     "output_type": "stream",
     "text": [
      "\u001b[34m\u001b[1mtrain: \u001b[0mNew cache created: D:\\Damage Detection\\Dataset\\train\\labels.cache\n",
      "\u001b[34m\u001b[1malbumentations: \u001b[0mBlur(p=0.01, blur_limit=(3, 7)), MedianBlur(p=0.01, blur_limit=(3, 7)), ToGray(p=0.01), CLAHE(p=0.01, clip_limit=(1, 4.0), tile_grid_size=(8, 8))\n"
     ]
    },
    {
     "name": "stderr",
     "output_type": "stream",
     "text": [
      "\u001b[34m\u001b[1mval: \u001b[0mScanning D:\\Damage Detection\\Dataset\\valid\\labels... 161 images, 0 backgrounds, 0 corrupt: 100%|██████████| 161/16\u001b[0m"
     ]
    },
    {
     "name": "stdout",
     "output_type": "stream",
     "text": [
      "\u001b[34m\u001b[1mval: \u001b[0mNew cache created: D:\\Damage Detection\\Dataset\\valid\\labels.cache\n"
     ]
    },
    {
     "name": "stderr",
     "output_type": "stream",
     "text": [
      "\n"
     ]
    },
    {
     "name": "stdout",
     "output_type": "stream",
     "text": [
      "Plotting labels to runs\\detect\\train\\labels.jpg... \n",
      "\u001b[34m\u001b[1moptimizer:\u001b[0m 'optimizer=auto' found, ignoring 'lr0=0.001' and 'momentum=0.937' and determining best 'optimizer', 'lr0' and 'momentum' automatically... \n",
      "\u001b[34m\u001b[1moptimizer:\u001b[0m AdamW(lr=0.001429, momentum=0.9) with parameter groups 57 weight(decay=0.0), 64 weight(decay=0.0005), 63 bias(decay=0.0)\n",
      "\u001b[34m\u001b[1mTensorBoard: \u001b[0mmodel graph visualization added \n",
      "Image sizes 640 train, 640 val\n",
      "Using 0 dataloader workers\n",
      "Logging results to \u001b[1mruns\\detect\\train\u001b[0m\n",
      "Starting training for 10 epochs...\n",
      "Closing dataloader mosaic\n",
      "\u001b[34m\u001b[1malbumentations: \u001b[0mBlur(p=0.01, blur_limit=(3, 7)), MedianBlur(p=0.01, blur_limit=(3, 7)), ToGray(p=0.01), CLAHE(p=0.01, clip_limit=(1, 4.0), tile_grid_size=(8, 8))\n",
      "\n",
      "      Epoch    GPU_mem   box_loss   cls_loss   dfl_loss  Instances       Size\n"
     ]
    },
    {
     "name": "stderr",
     "output_type": "stream",
     "text": [
      "       1/10         0G      16.69  1.448e+07      7.039         69        640:  15%|█▌        | 38/249 [43:24<3:40:50, "
     ]
    }
   ],
   "source": [
    "from ultralytics import YOLO\n",
    "\n",
    "# Load a pre-trained YOLOv8 model (e.g., YOLOv8s)\n",
    "model = YOLO('yolov8s.pt')  # or 'yolov8m.pt' or 'yolov8l.pt' for larger models\n",
    "\n",
    "# Fine-tune on your custom dataset\n",
    "model.train(data='D:\\Damage Detection\\Dataset\\data.yaml', epochs=100, batch=16, imgsz=640, lr0=0.001)\n"
   ]
  },
  {
   "cell_type": "code",
   "execution_count": null,
   "id": "52e1bd16-5a73-422b-b71b-813c6d8ff7cc",
   "metadata": {},
   "outputs": [],
   "source": [
    "import optuna\n",
    "\n",
    "def objective(trial):\n",
    "    # Suggest hyperparameters\n",
    "    lr = trial.suggest_loguniform('lr', 1e-5, 1e-2)\n",
    "    batch_size = trial.suggest_categorical('batch_size', [16, 32, 64])\n",
    "    epochs = trial.suggest_int('epochs', 50, 200)\n",
    "    \n",
    "    # Train model with suggested hyperparameters\n",
    "    model = YOLO('yolov8s.pt')\n",
    "    model.train(data='data.yaml', epochs=epochs, batch=batch_size, imgsz=640, lr0=lr)\n",
    "    \n",
    "    # Validate and return mAP as an evaluation metric\n",
    "    results = model.val()\n",
    "    return results['mAP']\n",
    "\n",
    "study = optuna.create_study(direction='maximize')\n",
    "study.optimize(objective, n_trials=20)\n",
    "best_params = study.best_params\n",
    "\n",
    "# Re-train with the best parameters\n",
    "model.train(data='D:\\Damage Detection\\Dataset\\data.yaml', epochs=best_params['epochs'], batch=best_params['batch_size'], imgsz=640, lr0=best_params['lr'])"
   ]
  }
 ],
 "metadata": {
  "kernelspec": {
   "display_name": "Python 3 (ipykernel)",
   "language": "python",
   "name": "python3"
  },
  "language_info": {
   "codemirror_mode": {
    "name": "ipython",
    "version": 3
   },
   "file_extension": ".py",
   "mimetype": "text/x-python",
   "name": "python",
   "nbconvert_exporter": "python",
   "pygments_lexer": "ipython3",
   "version": "3.12.5"
  }
 },
 "nbformat": 4,
 "nbformat_minor": 5
}
